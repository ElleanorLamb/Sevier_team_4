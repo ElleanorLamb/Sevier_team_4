{
 "cells": [
  {
   "cell_type": "code",
   "execution_count": 11,
   "id": "cb318ab4-07f8-4bd9-b9fd-5d6f2e8a3762",
   "metadata": {
    "tags": []
   },
   "outputs": [],
   "source": [
    "from sympy import *\n",
    "import numpy as np\n",
    "import cpymad as Madx\n",
    "from matplotlib import pyplot as plt\n",
    "import sympy\n",
    "import scipy as sp\n",
    "\n"
   ]
  },
  {
   "cell_type": "code",
   "execution_count": 12,
   "id": "a40c544e-0328-4616-812b-41a2e2b5467d",
   "metadata": {
    "tags": []
   },
   "outputs": [],
   "source": [
    "# define the symbols\n",
    "\n",
    "x=Symbol('x') \n",
    "y=Symbol('y') \n",
    "\n",
    "beta1 = Symbol('beta_1') # madx beta 1 \n",
    "beta2 = Symbol('beta_2')\n",
    "betas = Symbol('beta_s')\n",
    "betak = Symbol('beta_k')\n",
    "\n",
    "dmu = Symbol('\\Delta \\mu')\n",
    "mu1 = Symbol('\\mu_1')\n",
    "mu2 = Symbol('\\mu_2')\n",
    "mus = Symbol('\\mu_s')\n",
    "muk = Symbol('\\mu_k')\n",
    "\n",
    "alf1 = Symbol('alpha_1')\n",
    "alf2 = Symbol('alpha_2')\n",
    "alfs = Symbol('alpha_s')\n",
    "alfk = Symbol('alpha_k')\n",
    "\n",
    "dx1 = Symbol('{\\Delta x}_{1}')\n",
    "dx_p1 = Symbol('{\\Delta x\\'}_{1}')\n",
    "\n",
    "dx2 = Symbol('{\\Delta x}_{2}')\n",
    "dx_p2 = Symbol('{\\Delta x\\'}_{2}')\n",
    "\n",
    "dxs = Symbol('{\\Delta x}_{{s}}')\n",
    "dx_ps = Symbol('{\\Delta x\\'}_{{ s}}')\n",
    "dxk = Symbol('{\\Delta x}_{{k}}')\n",
    "dx_pk = Symbol('{\\Delta x\\'}_{{k}}')\n",
    "\n",
    "\n",
    "X_1 = Matrix([[dx1],[dx_p1]])\n",
    "X_2 = Matrix([[dx2],[dx_p2]])\n",
    "X_s = Matrix([[dxs],[dx_ps]])\n",
    "X_k = Matrix([[dxk],[dx_pk]])\n"
   ]
  },
  {
   "cell_type": "markdown",
   "id": "c7ff1395-69ec-4cd6-a201-5a5f3c13412c",
   "metadata": {},
   "source": [
    "### Exercise 4 - Extraction of the beam.\n",
    "\n",
    "We have four correctors, $C1, C2, C3, C4$, and a kicker in addition to the lattice from Exercise 3. "
   ]
  },
  {
   "cell_type": "code",
   "execution_count": 13,
   "id": "2ace5909-6395-4394-b6f6-f2046a46f71f",
   "metadata": {
    "tags": []
   },
   "outputs": [
    {
     "data": {
      "text/plain": [
       "Text(0.5, 0, 's')"
      ]
     },
     "execution_count": 13,
     "metadata": {},
     "output_type": "execute_result"
    },
    {
     "data": {
      "image/png": "[encoded data removed]",
      "text/plain": [
       "<Figure size 640x480 with 1 Axes>"
      ]
     },
     "metadata": {},
     "output_type": "display_data"
    }
   ],
   "source": [
    "fig = plt.figure()\n",
    "ax = fig.add_subplot(111)\n",
    "\n",
    "x = [ 0, 3, 11, 13, 21, 24]\n",
    "y = [ 0, 0, 2, 2, 0, 0]\n",
    "septum_x = 12\n",
    "septum_y = 4\n",
    "plt.scatter(septum_x, septum_y)\n",
    "plt.plot(x,y, )\n",
    "ax.annotate('kicker', xy=(0,0), xytext=(5,1), textcoords='offset points')\n",
    "ax.annotate('septum', xy=(12,4), xytext=(5,1), textcoords='offset points')\n",
    "\n",
    "ax.annotate('C1', xy=(3,0), xytext=(5,1), textcoords='offset points')\n",
    "ax.annotate('C2', xy=(11,2), xytext=(5,1), textcoords='offset points')\n",
    "ax.annotate('C3', xy=(13,2), xytext=(5,1), textcoords='offset points')\n",
    "ax.annotate('C4', xy=(21,0), xytext=(5,1), textcoords='offset points')\n",
    "\n",
    "ax.annotate('$\\\\bar{s}$', xy=(12,1), xytext=(10,0), textcoords='offset points')\n",
    "\n",
    "\n",
    "plt.scatter(x,y)\n",
    "plt.grid()\n",
    "plt.axvline(x=12, c='r', linestyle='--')\n",
    "plt.ylabel('x')\n",
    "plt.xlabel('s')"
   ]
  },
  {
   "cell_type": "markdown",
   "id": "8414593d-d4d1-4b90-93d4-b60b69b12b17",
   "metadata": {},
   "source": [
    "### Transport Matrix calculation\n",
    "\n",
    "We need to find the strength and position of the correctors and the kicker, to allow us to have a $x$ and $x'$ appropriate for the extraction. \n",
    "\n"
   ]
  },
  {
   "cell_type": "markdown",
   "id": "b12ddf25-4f56-4897-90d1-b60b5c44e4e4",
   "metadata": {},
   "source": [
    "Let $M_{1|2}$ be the transfer matrix for the lattice position from the kicker K1 to K2 defined by the courant snyder parameters, $\\beta$, $\\alpha$, and the phase $\\mu$, defined in the lectures. \n",
    "\n",
    "\n",
    "\n",
    "\n",
    "\n"
   ]
  },
  {
   "cell_type": "markdown",
   "id": "6e40c90b-045b-4c70-b2b5-e909e14615c3",
   "metadata": {},
   "source": [
    "Let $M^{ij}$ be the elements of the matrix : \n",
    "\n",
    "\n",
    "$$ \n",
    "{\\begin{bmatrix} M^{11} & M^{12}  \\\\ M^{21} &  M^{22}\\end{bmatrix}}\n",
    "$$\n",
    "Then in the linear approximation:$$ {\\Delta x_s} = {M_{(1|s)}^{12}} {\\Delta x'_1} + {M_{(2|s)}^{12}} {\\Delta x'_2} $$ and  $${\\Delta x'_s} = {M_{(1|s)}^{22}} {\\Delta x'_1} + {M_{(2|s)}^{22}} {\\Delta x'_2} $$\n",
    "\n",
    "Thus: \n",
    "\n",
    "$$\n",
    "\\bf{\\Delta x_s} = \\bf{M^*} \\begin{bmatrix} \\Delta x'_1 \\\\ \\Delta x'_2 \\end{bmatrix} \n",
    "$$\n",
    "\n",
    "Where $$\\bf{M^*} = \\begin{bmatrix} M^{12}_{(1|s)} & M^{12}_{(2|s)}  \\\\ M^{22}_{(1|s)} &  M^{22}_{(2|s)}  \\end{bmatrix}$$ \n",
    "\n"
   ]
  },
  {
   "cell_type": "markdown",
   "id": "42123065-00e3-4c78-8aab-5a422bb51c62",
   "metadata": {},
   "source": [
    "So, the needed correction is $$\\bf{M^{*-1}}\\Delta x_s $$\n",
    "\n",
    "The goal is to have $$\\begin{bmatrix} x_s \\\\ x_s'  \\end{bmatrix}  = \\begin{bmatrix} 2 \\\\  0 \\end{bmatrix} [mm]$$\n",
    "\n",
    "With the non-linearities from the sextupoles we can compute iteratively to reach the required 2mm. \n",
    "\n"
   ]
  },
  {
   "cell_type": "markdown",
   "id": "905a2a57-2bbc-4585-bf39-6c7e095bdb1a",
   "metadata": {},
   "source": [
    "### Defining the transport matrix with Sympy $M_{(1|s)}$ and $M_{(2|s)}$:"
   ]
  },
  {
   "cell_type": "code",
   "execution_count": 131,
   "id": "40ab844d-de67-41ed-921a-5318e1e6309e",
   "metadata": {
    "tags": []
   },
   "outputs": [
    {
     "data": {
      "text/latex": [
       "$\\displaystyle \\left[\\begin{matrix}\\sqrt{\\frac{\\beta_{1}}{\\beta_{s}}} \\left(- \\alpha_{s} \\sin{\\left(\\mu_{1} - \\mu_{s} \\right)} + \\cos{\\left(\\mu_{1} - \\mu_{s} \\right)}\\right) & - \\sqrt{\\beta_{1} \\beta_{s}} \\sin{\\left(\\mu_{1} - \\mu_{s} \\right)}\\\\\\frac{\\left(- \\alpha_{1} - \\alpha_{s}\\right) \\cos{\\left(\\mu_{1} - \\mu_{s} \\right)}}{\\sqrt{\\beta_{1} \\beta_{s}}} + \\frac{\\left(\\alpha_{1} \\alpha_{s} + 1\\right) \\sin{\\left(\\mu_{1} - \\mu_{s} \\right)}}{\\sqrt{\\beta_{1} \\beta_{s}}} & \\sqrt{\\frac{\\beta_{1}}{\\beta_{s}}} \\left(\\alpha_{s} \\sin{\\left(\\mu_{1} - \\mu_{s} \\right)} + \\cos{\\left(\\mu_{1} - \\mu_{s} \\right)}\\right)\\end{matrix}\\right]$"
      ],
      "text/plain": [
       "Matrix([\n",
       "[                                                    sqrt(beta_1/beta_s)*(-alpha_s*sin(\\mu_1 - \\mu_s) + cos(\\mu_1 - \\mu_s)),                               -sqrt(beta_1*beta_s)*sin(\\mu_1 - \\mu_s)],\n",
       "[(-alpha_1 - alpha_s)*cos(\\mu_1 - \\mu_s)/sqrt(beta_1*beta_s) + (alpha_1*alpha_s + 1)*sin(\\mu_1 - \\mu_s)/sqrt(beta_1*beta_s), sqrt(beta_1/beta_s)*(alpha_s*sin(\\mu_1 - \\mu_s) + cos(\\mu_1 - \\mu_s))]])"
      ]
     },
     "execution_count": 131,
     "metadata": {},
     "output_type": "execute_result"
    }
   ],
   "source": [
    "m_1s = Matrix([[sqrt(beta1/betas)*(cos(mus-mu1) + alfs*sin(mus-mu1)), sqrt(betas\n",
    "               *beta1)*sin(mus-mu1)],\n",
    "              [  (-alf1-alfs)/sqrt(betas*beta1)*cos(mus-mu1)-(1+alf1*alfs)/sqrt(beta1*betas)*sin(mus-mu1),   \n",
    "               sqrt(beta1/betas)*(cos(mus-mu1)-alfs*sin(mus-mu1))]] ) \n",
    "\n",
    "m_2s = Matrix([[sqrt(beta2/betas)*(cos(mus-mu2) + alfs*sin(mus-mu2)), sqrt(betas\n",
    "               *beta2)*sin(mus-mu2)],\n",
    "              [  (-alf2-alfs)/sqrt(betas*beta2)*cos(mus-mu2)-(1+alf2*alfs)/sqrt(beta2*betas)*sin(mus-mu2),   \n",
    "               sqrt(beta2/betas)*(cos(mus-mu2)-alfs*sin(mus-mu2))]] ) \n",
    "\n",
    "m_1s\n"
   ]
  },
  {
   "cell_type": "markdown",
   "id": "186542dc-0e05-4128-a710-e8353a66e5db",
   "metadata": {},
   "source": [
    "### Calculating in Sympy the $\\Delta x'$ from C1 to C2. We can define $\\bf{M^*}$:"
   ]
  },
  {
   "cell_type": "code",
   "execution_count": 129,
   "id": "b7f9a815-6953-4189-8559-8f6570e87fd5",
   "metadata": {
    "tags": []
   },
   "outputs": [
    {
     "data": {
      "text/latex": [
       "$\\displaystyle \\left[\\begin{matrix}- \\beta_{1} \\beta_{s} \\sin{\\left(\\mu_{1} - \\mu_{s} \\right)} & - \\beta_{2} \\beta_{s} \\sin{\\left(\\mu_{2} - \\mu_{s} \\right)}\\\\\\sqrt{\\frac{\\beta_{1}}{\\beta_{s}}} \\left(\\alpha_{s} \\sin{\\left(\\mu_{1} - \\mu_{s} \\right)} + \\cos{\\left(\\mu_{1} - \\mu_{s} \\right)}\\right) & \\sqrt{\\frac{\\beta_{2}}{\\beta_{s}}} \\left(\\alpha_{s} \\sin{\\left(\\mu_{2} - \\mu_{s} \\right)} + \\cos{\\left(\\mu_{2} - \\mu_{s} \\right)}\\right)\\end{matrix}\\right]$"
      ],
      "text/plain": [
       "Matrix([\n",
       "[                                    -beta_1*beta_s*sin(\\mu_1 - \\mu_s),                                     -beta_2*beta_s*sin(\\mu_2 - \\mu_s)],\n",
       "[sqrt(beta_1/beta_s)*(alpha_s*sin(\\mu_1 - \\mu_s) + cos(\\mu_1 - \\mu_s)), sqrt(beta_2/beta_s)*(alpha_s*sin(\\mu_2 - \\mu_s) + cos(\\mu_2 - \\mu_s))]])"
      ]
     },
     "execution_count": 129,
     "metadata": {},
     "output_type": "execute_result"
    }
   ],
   "source": [
    "M_star = Matrix([[ betas *beta1*sin(mus-mu1) ,  betas*beta2*sin(mus-mu2)],\n",
    "                     [sqrt(beta1/betas)*(cos(mus-mu1)-alfs*sin(mus-mu1))  ,  sqrt(beta2/betas)*(cos(mus-mu2)-alfs*sin(mus-mu2))]]) \n",
    "\n",
    "M_star\n"
   ]
  },
  {
   "cell_type": "markdown",
   "id": "554cbda1-4af6-4683-9ddf-881dc930a263",
   "metadata": {},
   "source": [
    "### And $\\bf{M^{*-1}}$:"
   ]
  },
  {
   "cell_type": "code",
   "execution_count": 130,
   "id": "637e0722-987c-47c9-bf1f-45b1b65f2564",
   "metadata": {},
   "outputs": [
    {
     "data": {
      "text/latex": [
       "$\\displaystyle \\left[\\begin{matrix}\\frac{- \\alpha_{s} \\sqrt{\\frac{\\beta_{2}}{\\beta_{s}}} \\sin{\\left(\\mu_{2} - \\mu_{s} \\right)} - \\sqrt{\\frac{\\beta_{2}}{\\beta_{s}}} \\cos{\\left(\\mu_{2} - \\mu_{s} \\right)}}{\\alpha_{s} \\beta_{1} \\beta_{s} \\sqrt{\\frac{\\beta_{2}}{\\beta_{s}}} \\sin{\\left(\\mu_{1} - \\mu_{s} \\right)} \\sin{\\left(\\mu_{2} - \\mu_{s} \\right)} - \\alpha_{s} \\beta_{2} \\beta_{s} \\sqrt{\\frac{\\beta_{1}}{\\beta_{s}}} \\sin{\\left(\\mu_{1} - \\mu_{s} \\right)} \\sin{\\left(\\mu_{2} - \\mu_{s} \\right)} + \\beta_{1} \\beta_{s} \\sqrt{\\frac{\\beta_{2}}{\\beta_{s}}} \\sin{\\left(\\mu_{1} - \\mu_{s} \\right)} \\cos{\\left(\\mu_{2} - \\mu_{s} \\right)} - \\beta_{2} \\beta_{s} \\sqrt{\\frac{\\beta_{1}}{\\beta_{s}}} \\sin{\\left(\\mu_{2} - \\mu_{s} \\right)} \\cos{\\left(\\mu_{1} - \\mu_{s} \\right)}} & - \\frac{\\beta_{2} \\sin{\\left(\\mu_{2} - \\mu_{s} \\right)}}{\\alpha_{s} \\beta_{1} \\sqrt{\\frac{\\beta_{2}}{\\beta_{s}}} \\sin{\\left(\\mu_{1} - \\mu_{s} \\right)} \\sin{\\left(\\mu_{2} - \\mu_{s} \\right)} - \\alpha_{s} \\beta_{2} \\sqrt{\\frac{\\beta_{1}}{\\beta_{s}}} \\sin{\\left(\\mu_{1} - \\mu_{s} \\right)} \\sin{\\left(\\mu_{2} - \\mu_{s} \\right)} + \\beta_{1} \\sqrt{\\frac{\\beta_{2}}{\\beta_{s}}} \\sin{\\left(\\mu_{1} - \\mu_{s} \\right)} \\cos{\\left(\\mu_{2} - \\mu_{s} \\right)} - \\beta_{2} \\sqrt{\\frac{\\beta_{1}}{\\beta_{s}}} \\sin{\\left(\\mu_{2} - \\mu_{s} \\right)} \\cos{\\left(\\mu_{1} - \\mu_{s} \\right)}}\\\\\\frac{- \\alpha_{s} \\sqrt{\\frac{\\beta_{1}}{\\beta_{s}}} \\sin{\\left(\\mu_{1} - \\mu_{s} \\right)} - \\sqrt{\\frac{\\beta_{1}}{\\beta_{s}}} \\cos{\\left(\\mu_{1} - \\mu_{s} \\right)}}{- \\alpha_{s} \\beta_{1} \\beta_{s} \\sqrt{\\frac{\\beta_{2}}{\\beta_{s}}} \\sin{\\left(\\mu_{1} - \\mu_{s} \\right)} \\sin{\\left(\\mu_{2} - \\mu_{s} \\right)} + \\alpha_{s} \\beta_{2} \\beta_{s} \\sqrt{\\frac{\\beta_{1}}{\\beta_{s}}} \\sin{\\left(\\mu_{1} - \\mu_{s} \\right)} \\sin{\\left(\\mu_{2} - \\mu_{s} \\right)} - \\beta_{1} \\beta_{s} \\sqrt{\\frac{\\beta_{2}}{\\beta_{s}}} \\sin{\\left(\\mu_{1} - \\mu_{s} \\right)} \\cos{\\left(\\mu_{2} - \\mu_{s} \\right)} + \\beta_{2} \\beta_{s} \\sqrt{\\frac{\\beta_{1}}{\\beta_{s}}} \\sin{\\left(\\mu_{2} - \\mu_{s} \\right)} \\cos{\\left(\\mu_{1} - \\mu_{s} \\right)}} & - \\frac{\\beta_{1} \\sin{\\left(\\mu_{1} - \\mu_{s} \\right)}}{- \\alpha_{s} \\beta_{1} \\sqrt{\\frac{\\beta_{2}}{\\beta_{s}}} \\sin{\\left(\\mu_{1} - \\mu_{s} \\right)} \\sin{\\left(\\mu_{2} - \\mu_{s} \\right)} + \\alpha_{s} \\beta_{2} \\sqrt{\\frac{\\beta_{1}}{\\beta_{s}}} \\sin{\\left(\\mu_{1} - \\mu_{s} \\right)} \\sin{\\left(\\mu_{2} - \\mu_{s} \\right)} - \\beta_{1} \\sqrt{\\frac{\\beta_{2}}{\\beta_{s}}} \\sin{\\left(\\mu_{1} - \\mu_{s} \\right)} \\cos{\\left(\\mu_{2} - \\mu_{s} \\right)} + \\beta_{2} \\sqrt{\\frac{\\beta_{1}}{\\beta_{s}}} \\sin{\\left(\\mu_{2} - \\mu_{s} \\right)} \\cos{\\left(\\mu_{1} - \\mu_{s} \\right)}}\\end{matrix}\\right]$"
      ],
      "text/plain": [
       "Matrix([\n",
       "[ (-alpha_s*sqrt(beta_2/beta_s)*sin(\\mu_2 - \\mu_s) - sqrt(beta_2/beta_s)*cos(\\mu_2 - \\mu_s))/(alpha_s*beta_1*beta_s*sqrt(beta_2/beta_s)*sin(\\mu_1 - \\mu_s)*sin(\\mu_2 - \\mu_s) - alpha_s*beta_2*beta_s*sqrt(beta_1/beta_s)*sin(\\mu_1 - \\mu_s)*sin(\\mu_2 - \\mu_s) + beta_1*beta_s*sqrt(beta_2/beta_s)*sin(\\mu_1 - \\mu_s)*cos(\\mu_2 - \\mu_s) - beta_2*beta_s*sqrt(beta_1/beta_s)*sin(\\mu_2 - \\mu_s)*cos(\\mu_1 - \\mu_s)),  -beta_2*sin(\\mu_2 - \\mu_s)/(alpha_s*beta_1*sqrt(beta_2/beta_s)*sin(\\mu_1 - \\mu_s)*sin(\\mu_2 - \\mu_s) - alpha_s*beta_2*sqrt(beta_1/beta_s)*sin(\\mu_1 - \\mu_s)*sin(\\mu_2 - \\mu_s) + beta_1*sqrt(beta_2/beta_s)*sin(\\mu_1 - \\mu_s)*cos(\\mu_2 - \\mu_s) - beta_2*sqrt(beta_1/beta_s)*sin(\\mu_2 - \\mu_s)*cos(\\mu_1 - \\mu_s))],\n",
       "[(-alpha_s*sqrt(beta_1/beta_s)*sin(\\mu_1 - \\mu_s) - sqrt(beta_1/beta_s)*cos(\\mu_1 - \\mu_s))/(-alpha_s*beta_1*beta_s*sqrt(beta_2/beta_s)*sin(\\mu_1 - \\mu_s)*sin(\\mu_2 - \\mu_s) + alpha_s*beta_2*beta_s*sqrt(beta_1/beta_s)*sin(\\mu_1 - \\mu_s)*sin(\\mu_2 - \\mu_s) - beta_1*beta_s*sqrt(beta_2/beta_s)*sin(\\mu_1 - \\mu_s)*cos(\\mu_2 - \\mu_s) + beta_2*beta_s*sqrt(beta_1/beta_s)*sin(\\mu_2 - \\mu_s)*cos(\\mu_1 - \\mu_s)), -beta_1*sin(\\mu_1 - \\mu_s)/(-alpha_s*beta_1*sqrt(beta_2/beta_s)*sin(\\mu_1 - \\mu_s)*sin(\\mu_2 - \\mu_s) + alpha_s*beta_2*sqrt(beta_1/beta_s)*sin(\\mu_1 - \\mu_s)*sin(\\mu_2 - \\mu_s) - beta_1*sqrt(beta_2/beta_s)*sin(\\mu_1 - \\mu_s)*cos(\\mu_2 - \\mu_s) + beta_2*sqrt(beta_1/beta_s)*sin(\\mu_2 - \\mu_s)*cos(\\mu_1 - \\mu_s))]])"
      ]
     },
     "execution_count": 130,
     "metadata": {},
     "output_type": "execute_result"
    }
   ],
   "source": [
    "M_star**-1"
   ]
  },
  {
   "cell_type": "markdown",
   "id": "193035d4-84dd-48d8-9040-c5bd3946e4e5",
   "metadata": {},
   "source": [
    "\n"
   ]
  },
  {
   "cell_type": "markdown",
   "id": "36cc55c7-9adb-4f04-98f1-f6a266b86f26",
   "metadata": {},
   "source": [
    "### For the kicker\n",
    "\n",
    "The required phase advance, to have an $x' = 0$ at the septum, is $\\pi/2 + n*2\\pi$ between the kicker and $s$."
   ]
  },
  {
   "cell_type": "code",
   "execution_count": 81,
   "id": "4b6a9d9e-e2a6-4842-906d-234ffce3228e",
   "metadata": {},
   "outputs": [],
   "source": [
    "import numpy as np\n",
    "import matplotlib.pyplot as plt\n",
    "from matplotlib.patches import Ellipse\n",
    "import matplotlib.transforms as transforms\n",
    "\n",
    "def plot_ellipse(beta, alpha, epsilon, ax, x0=0, px0=0, facecolor='black', **kwargs):\n",
    "    \"\"\"\n",
    "    Create a plot of the covariance confidence ellipse of *x* and *y*.\n",
    "\n",
    "    Parameters\n",
    "    ----------\n",
    "    x, y : array-like, shape (n, )\n",
    "        Input data.\n",
    "\n",
    "    ax : matplotlib.axes.Axes\n",
    "        The axes object to draw the ellipse into.\n",
    "\n",
    "    n_std : float\n",
    "        The number of standard deviations to determine the ellipse's radiuses.\n",
    "\n",
    "    **kwargs\n",
    "        Forwarded to `~matplotlib.patches.Ellipse`\n",
    "\n",
    "    Returns\n",
    "    -------\n",
    "    matplotlib.patches.Ellipse\n",
    "    \"\"\"\n",
    "    \n",
    "    gamma = (1+alpha**2)/beta\n",
    "    cov = epsilon*np.array([[beta, -alpha], [-alpha, gamma]])\n",
    "    pearson = cov[0, 1]/np.sqrt(cov[0, 0] * cov[1, 1])\n",
    "    # Using a special case to obtain the eigenvalues of this\n",
    "    # two-dimensional dataset.\n",
    "    ell_radius_x = np.sqrt(1 + pearson)\n",
    "    ell_radius_y = np.sqrt(1 - pearson)\n",
    "    ellipse = Ellipse((0, 0), width=ell_radius_x * 2, height=ell_radius_y * 2,\n",
    "                      facecolor=facecolor, **kwargs)\n",
    "\n",
    "    # Calculating the standard deviation of x from\n",
    "    # the squareroot of the variance and multiplying\n",
    "    # with the given number of standard deviations.\n",
    "    scale_x = np.sqrt(cov[0, 0])\n",
    "    mean_x = x0\n",
    "\n",
    "    scale_y = np.sqrt(cov[1, 1])\n",
    "    mean_y = px0\n",
    "\n",
    "    transf = transforms.Affine2D() \\\n",
    "        .rotate_deg(45) \\\n",
    "        .scale(scale_x, scale_y) \\\n",
    "        .translate(mean_x, mean_y)\n",
    "\n",
    "    ellipse.set_transform(transf + ax.transData)\n",
    "    return ax.add_patch(ellipse)"
   ]
  },
  {
   "cell_type": "code",
   "execution_count": null,
   "id": "9236362a-b7bf-4b38-b57e-2439e61b1bb1",
   "metadata": {},
   "outputs": [],
   "source": []
  },
  {
   "cell_type": "code",
   "execution_count": 123,
   "id": "8e6830bd-100f-4857-bf45-0c4f76d8b06a",
   "metadata": {},
   "outputs": [],
   "source": [
    "\n",
    "alpha=1\n",
    "beta =15\n",
    "j = 6.\n",
    "\n",
    "xlim = np.sqrt(2*beta*j)\n",
    "xarray=np.linspace(-xlim,xlim,40)\n",
    "\n",
    "\n",
    "def fun(x):  \n",
    "    gamma = (1+alpha**2)/beta\n",
    "    value = gamma*xvalue**2 + 2*alpha*xvalue*x + beta*x**2 \n",
    "    return value - 2*j\n",
    "\n",
    "xprime_neg=[]\n",
    "#scipy.optimize.root(fun, args=[0,0,0,0],  x0=0.)\n",
    "for i in range(40):\n",
    "    xvalue = xarray[i]\n",
    "    sol = sp.optimize.fsolve(fun, x0=[-3],  )\n",
    "    xprime_neg.append(sol )\n",
    "\n",
    "\n",
    "xprime_pos=[]\n",
    "#scipy.opimize.root(fun, args=[0,0,0,0],  x0=0.)\n",
    "for i in range(40):\n",
    "    xvalue = xarray[i]\n",
    "    sol = sp.optimize.fsolve(fun, x0=[3],  )\n",
    "    xprime_pos.append(sol)"
   ]
  },
  {
   "cell_type": "code",
   "execution_count": 126,
   "id": "19897921-7ac2-4181-83dc-4736ccac2e8d",
   "metadata": {},
   "outputs": [
    {
     "data": {
      "text/plain": [
       "Text(0, 0.5, \"x'\")"
      ]
     },
     "execution_count": 126,
     "metadata": {},
     "output_type": "execute_result"
    },
    {
     "data": {
      "image/png": "[encoded data removed]",
      "text/plain": [
       "<Figure size 640x480 with 1 Axes>"
      ]
     },
     "metadata": {},
     "output_type": "display_data"
    }
   ],
   "source": [
    "xprime_pos = np.array(xprime_pos).flatten()\n",
    "xprime_neg = np.array(xprime_neg).flatten()\n",
    "\n",
    "xarray = np.array(xarray).flatten()\n",
    "plt.scatter(xarray, xprime_neg)\n",
    "plt.scatter(xarray, xprime_pos)\n",
    "\n",
    "plt.grid()\n",
    "plt.xlabel('x')\n",
    "plt.ylabel('x\\'')"
   ]
  },
  {
   "cell_type": "code",
   "execution_count": 110,
   "id": "4c13dbc1-a13a-4ec6-ab59-1bb0cc2518b5",
   "metadata": {},
   "outputs": [
    {
     "data": {
      "text/plain": [
       "array([0.])"
      ]
     },
     "execution_count": 110,
     "metadata": {},
     "output_type": "execute_result"
    }
   ],
   "source": [
    "sol"
   ]
  },
  {
   "cell_type": "code",
   "execution_count": 104,
   "id": "5c314b85-a7ae-4734-a042-12e766dfabab",
   "metadata": {},
   "outputs": [
    {
     "data": {
      "text/plain": [
       "<matplotlib.collections.PathCollection at 0x7f0fe3121bb0>"
      ]
     },
     "execution_count": 104,
     "metadata": {},
     "output_type": "execute_result"
    },
    {
     "data": {
      "image/png": "[encoded data removed]",
      "text/plain": [
       "<Figure size 640x480 with 1 Axes>"
      ]
     },
     "metadata": {},
     "output_type": "display_data"
    }
   ],
   "source": [
    "\n",
    "\n"
   ]
  },
  {
   "cell_type": "code",
   "execution_count": null,
   "id": "cb889736-11eb-4b8d-84cc-c152383a1631",
   "metadata": {},
   "outputs": [],
   "source": []
  }
 ],
 "metadata": {
  "kernelspec": {
   "display_name": "Python 3 (ipykernel)",
   "language": "python",
   "name": "python3"
  },
  "language_info": {
   "codemirror_mode": {
    "name": "ipython",
    "version": 3
   },
   "file_extension": ".py",
   "mimetype": "text/x-python",
   "name": "python",
   "nbconvert_exporter": "python",
   "pygments_lexer": "ipython3",
   "version": "3.9.12"
  }
 },
 "nbformat": 4,
 "nbformat_minor": 5
}
